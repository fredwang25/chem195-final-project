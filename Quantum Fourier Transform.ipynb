{
 "cells": [
  {
   "cell_type": "code",
   "execution_count": 3,
   "id": "2c8b9f51",
   "metadata": {},
   "outputs": [],
   "source": [
    "import numpy as np\n",
    "from PIL import Image\n",
    "test_img = Image.open(r\"smile16.png\")\n",
    "a = np.array(test_img)[:,:,0]\n",
    "\n",
    "img = Image.fromarray(np.uint8(a), 'L')\n",
    "img.show()"
   ]
  },
  {
   "cell_type": "code",
   "execution_count": 70,
   "id": "0f69243a",
   "metadata": {},
   "outputs": [
    {
     "name": "stderr",
     "output_type": "stream",
     "text": [
      "<ipython-input-70-b099177577e1>:21: DeprecationWarning: The QuantumCircuit.__iadd__() method is being deprecated. Use the compose() (potentially with the inplace=True argument) and tensor() methods which are more flexible w.r.t circuit register compatibility.\n",
      "  qc += QFT(num_qubits=num_qubits)\n",
      "<ipython-input-70-b099177577e1>:22: DeprecationWarning: The QuantumCircuit.__iadd__() method is being deprecated. Use the compose() (potentially with the inplace=True argument) and tensor() methods which are more flexible w.r.t circuit register compatibility.\n",
      "  qc += QFT(num_qubits=num_qubits, inverse=True)\n"
     ]
    },
    {
     "name": "stdout",
     "output_type": "stream",
     "text": [
      "1.1121531309279726\n",
      "0.5306663900119685\n"
     ]
    }
   ],
   "source": [
    "from qiskit import transpile\n",
    "from qiskit.providers.aer import QasmSimulator\n",
    "from qiskit import QuantumRegister, ClassicalRegister\n",
    "from qiskit import QuantumCircuit\n",
    "\n",
    "num_qubits = 2\n",
    "\n",
    "all_errors = []\n",
    "\n",
    "for i in range(100):\n",
    "    a1 = np.random.binomial(n=1, p=0.5, size=(2,2)) * 254 + 1\n",
    "    \n",
    "    a1 = a1.astype(\"float64\").flatten()\n",
    "    norm = np.sqrt(np.sum(a1 ** 2))\n",
    "    a1 /= norm\n",
    "    # print(np.linalg.norm(a1))\n",
    "\n",
    "    simulator = QasmSimulator()\n",
    "    qc = QuantumCircuit(QuantumRegister(num_qubits,'q'))\n",
    "    qc.initialize(a1.flatten().tolist())\n",
    "    qc += QFT(num_qubits=num_qubits)\n",
    "    qc += QFT(num_qubits=num_qubits, inverse=True)\n",
    "\n",
    "    qc.measure_all()\n",
    "    qc.draw()\n",
    "\n",
    "    # # compile the circuit down to low-level QASM instructions\n",
    "    # # supported by the backend (not needed for simple circuits)\n",
    "    compiled_circuit = transpile(qc, simulator)\n",
    "\n",
    "    # Execute the circuit on the qasm simulator\n",
    "    job = simulator.run(compiled_circuit, shots=100000)\n",
    "\n",
    "    # Grab results from the job\n",
    "    result = job.result()\n",
    "\n",
    "    # Returns counts\n",
    "    # print(result)\n",
    "    counts = result.get_counts(compiled_circuit)\n",
    "    # print(counts)\n",
    "    a_q = np.zeros((2 ** num_qubits))\n",
    "    for i in range(2 ** num_qubits):\n",
    "        for key in counts:\n",
    "            a_q[int(key, 2)] = counts[key]\n",
    "    \n",
    "    a_q = a_q.astype(\"float64\").flatten()\n",
    "    norm = np.sqrt(np.sum(a_q ** 2))\n",
    "    a_q /= norm\n",
    "    # a_q = a_q[::-1]\n",
    "    # print(np.linalg.norm(a_q))\n",
    "  \n",
    "    a1 = a1 * 255 / np.max(a1)\n",
    "    a_q = a_q * 255 / np.max(a_q)\n",
    "#     print(\"og\", a1)\n",
    "#     print(\"new\", a_q)\n",
    "#     print(np.mean(a_q))\n",
    "#     print(\"RMSE\", np.sqrt(np.mean((a1-a_q)**2)))\n",
    "    \n",
    "    all_errors.append(np.sqrt(np.mean((a1-a_q)**2)))\n",
    "\n",
    "print(np.mean(all_errors))\n",
    "print(np.std(all_errors))"
   ]
  },
  {
   "cell_type": "code",
   "execution_count": null,
   "id": "631b7e79",
   "metadata": {},
   "outputs": [],
   "source": []
  }
 ],
 "metadata": {
  "kernelspec": {
   "display_name": "Python 3",
   "language": "python",
   "name": "python3"
  },
  "language_info": {
   "codemirror_mode": {
    "name": "ipython",
    "version": 3
   },
   "file_extension": ".py",
   "mimetype": "text/x-python",
   "name": "python",
   "nbconvert_exporter": "python",
   "pygments_lexer": "ipython3",
   "version": "3.9.0"
  }
 },
 "nbformat": 4,
 "nbformat_minor": 5
}
